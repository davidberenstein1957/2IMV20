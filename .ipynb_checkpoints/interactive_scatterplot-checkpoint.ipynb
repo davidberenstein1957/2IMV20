{
 "cells": [
  {
   "cell_type": "code",
   "execution_count": 3,
   "metadata": {},
   "outputs": [
    {
     "data": {
      "text/plain": [
       "'3.4.2'"
      ]
     },
     "execution_count": 3,
     "metadata": {},
     "output_type": "execute_result"
    }
   ],
   "source": [
    "import plotly\n",
    "plotly.__version__"
   ]
  },
  {
   "cell_type": "code",
   "execution_count": 4,
   "metadata": {},
   "outputs": [],
   "source": [
    "import datetime\n",
    "import numpy as np\n",
    "import pandas as pd\n",
    "import time\n",
    "import plotly.graph_objs as go\n",
    "import plotly.plotly as py\n",
    "\n",
    "from ipywidgets import widgets, Label, Layout\n",
    "from IPython.display import display, clear_output, Image"
   ]
  },
  {
   "cell_type": "code",
   "execution_count": 5,
   "metadata": {},
   "outputs": [],
   "source": [
    "df = pd.read_csv(\n",
    "    'https://raw.githubusercontent.com/yankev/testing/master/datasets/nycflights.csv')\n",
    "df = df.drop(df.columns[[0]], axis=1)"
   ]
  },
  {
   "cell_type": "code",
   "execution_count": 6,
   "metadata": {},
   "outputs": [],
   "source": [
    "hour = widgets.SelectionRangeSlider(\n",
    "    options=range(0,24),\n",
    "    index=(0,23),\n",
    "    description='Hours',\n",
    "    disabled=False\n",
    ")\n",
    "\n",
    "day_week = widgets.SelectionRangeSlider(\n",
    "    options=range(1,8),\n",
    "    index=(0,6),\n",
    "    description='Weekday',\n",
    "    disabled=False\n",
    ")\n",
    "\n",
    "day_month = widgets.SelectionRangeSlider(\n",
    "    options=range(1,32),\n",
    "    index=(0,30),\n",
    "    description='Monthday',\n",
    "    disabled=False\n",
    ")\n",
    "\n",
    "month = widgets.SelectionRangeSlider(\n",
    "    options=range(1,13),\n",
    "    index=(0,11),\n",
    "    description='Months',\n",
    "    disabled=False\n",
    ")\n",
    "\n",
    "year = widgets.SelectionRangeSlider(\n",
    "    options=range(2001,2018),\n",
    "    index=(0,16),\n",
    "    description='Years',\n",
    "    disabled=False\n",
    ")\n",
    "\n",
    "button = widgets.Button(\n",
    "    description='Update Graph',\n",
    "    disabled=False,\n",
    "    button_style='warning', # 'success', 'info', 'warning', 'danger' or ''\n",
    "    tooltip='Click me',\n",
    "    icon='check'\n",
    ")\n",
    "\n",
    "container_hour_day = widgets.HBox(children=[hour, day_week, day_month])\n",
    "container_month_year = widgets.HBox(children=[month, year])\n",
    "container_times = widgets.VBox(children=[container_hour_day, container_month_year])\n",
    "container_update = widgets.HBox(children=[button])"
   ]
  },
  {
   "cell_type": "code",
   "execution_count": null,
   "metadata": {},
   "outputs": [],
   "source": [
    "df_crimes = pd.read_csv('filtered_data_scatterplot.csv', parse_dates=['Date'])\n",
    "df_crimes = df_crimes.drop('Unnamed: 0', axis=1).drop('Ward', axis=1).drop('Community Area', axis=1)\n",
    "df_crimes = df_crimes.dropna(axis='rows')\n",
    "df_crimes_input = df_crimes[((df_crimes['Date'].dt.year == 2017)&(df_crimes['Date'].dt.month <= 6))|\n",
    "                           ((df_crimes['Date'].dt.year == 2016)&(df_crimes['Date'].dt.month >= 6))]\n",
    "df_crimes_input['false_lat'] = 52.370216\n",
    "df_crimes_input['false_lon'] = 4.895168"
   ]
  },
  {
   "cell_type": "code",
   "execution_count": null,
   "metadata": {},
   "outputs": [],
   "source": [
    "box_layout = Layout(display='flex',\n",
    "                    flex_flow='column',\n",
    "                    align_items='stretch',\n",
    "                    width='100%')\n",
    "\n",
    "crime_type = widgets.SelectMultiple(\n",
    "    options=sorted(df_crimes_input['Primary Type'].unique().tolist()),\n",
    "    value=sorted(df_crimes_input['Primary Type'].unique().tolist()),\n",
    "    rows=8,\n",
    "    disabled=False\n",
    ")\n",
    "\n",
    "location_type = widgets.SelectMultiple(\n",
    "    options=sorted(df_crimes_input['Location Description'].unique().tolist()),\n",
    "    value=sorted(df_crimes_input['Location Description'].unique().tolist()),\n",
    "    rows=8,\n",
    "    disabled=False\n",
    ")\n",
    "\n",
    "arrest_type = widgets.SelectMultiple(\n",
    "    options=df_crimes_input['Arrest'].astype(str).unique().tolist(),\n",
    "    value=df_crimes_input['Arrest'].astype(str).unique().tolist(),\n",
    "    rows=2,\n",
    "    disabled=False\n",
    ")\n",
    "\n",
    "domestic_type = widgets.SelectMultiple(\n",
    "    options=df_crimes_input['Arrest'].astype(str).unique().tolist(),\n",
    "    value=df_crimes_input['Domestic'].astype(str).unique().tolist(),\n",
    "    rows=2,\n",
    "    disabled=False\n",
    ")\n",
    "\n",
    "container_selection3 = widgets.HBox(children=[widgets.HBox([Label('Primary Type:'), crime_type], layout=box_layout), \n",
    "                                              widgets.HBox([Label('Location Description:'), location_type], layout=box_layout)])\n",
    "container_selection4 = widgets.HBox(children=[widgets.HBox([Label('Arrest:'), arrest_type], layout=box_layout), \n",
    "                                              widgets.HBox([Label('Domestic:'), domestic_type], layout=box_layout)])\n",
    "\n",
    "accordion = widgets.Accordion(children=[container_times, container_selection3, container_selection4])\n",
    "accordion.set_title(0, 'Filter on Date and Time Ranges')\n",
    "accordion.set_title(1, 'Filter on Crime and Location Types')\n",
    "accordion.set_title(2, 'Filter on Whether the Crime was an Arrest or Domestic abuse')"
   ]
  },
  {
   "cell_type": "code",
   "execution_count": null,
   "metadata": {},
   "outputs": [],
   "source": [
    "# Assign an emptry figure widget with two traces\n",
    "mapbox_access_token = 'pk.eyJ1IjoiZGF2aWRiZXJlbnN0ZWluIiwiYSI6ImNqZTA3dzJsMzFxa3oyenM2aHZhd21zNzAifQ.J1o8_Avl5RuNMd5f-tOk6A'\n",
    "\n",
    "data = []\n",
    "for mfr in list(df_crimes_input['Primary Type'].unique()):\n",
    "    if mfr != 'unknown':\n",
    "        interim = df_crimes_input[ df_crimes_input['Primary Type'] == mfr ]\n",
    "        interim['Arrest'] = interim['Arrest'].astype(str)\n",
    "        interim['Domestic'] = interim['Domestic'].astype(str)\n",
    "        interim['Date'] = interim['Date'].astype(str)\n",
    "        trace = go.Scattermapbox(\n",
    "            lat = interim['Latitude'],\n",
    "            lon = interim['Longitude'],\n",
    "            mode = 'markers',\n",
    "            marker = dict(size = 4),\n",
    "            name = mfr,\n",
    "            text = ('Date: ' + interim['Date'] + \n",
    "                    '<br>Location: ' + interim['Location Description'] + \n",
    "                    '<br>Arrest: '+ interim['Arrest'] + \n",
    "                    '<br>Domestic: ' + interim['Domestic'])\n",
    "        )\n",
    "    data.append(trace)\n",
    "\n",
    "layout_go = go.Layout(\n",
    "    autosize=True,\n",
    "    height = 800,\n",
    "    hovermode='closest',\n",
    "    mapbox=dict(\n",
    "        accesstoken=mapbox_access_token,\n",
    "        bearing=0,\n",
    "        center=dict(\n",
    "            lat=41.9,\n",
    "            lon=-87.7\n",
    "        ),\n",
    "        pitch=0,\n",
    "        zoom=10,\n",
    "        style='dark'\n",
    "    ),\n",
    ")\n",
    "\n",
    "g = go.FigureWidget(data=data,\n",
    "                    layout=layout_go)"
   ]
  },
  {
   "cell_type": "code",
   "execution_count": null,
   "metadata": {},
   "outputs": [],
   "source": [
    "def dataframe_update():\n",
    "    i = 0\n",
    "    with g.batch_update():\n",
    "        for mfr in list(df_crimes_input['Primary Type'].unique()):\n",
    "            interim = df_crimes_input[df_crimes_input['Primary Type'] == mfr]\n",
    "            interim['Domestic'] = interim['Domestic'].astype(str)\n",
    "            interim['Arrest'] = interim['Arrest'].astype(str)\n",
    "            g.data[i].lat = np.where((interim['Primary Type'].isin(list(crime_type.value))&\n",
    "                                    interim['Domestic'].isin(list(domestic_type.value))&\n",
    "                                    interim['Arrest'].isin(list(arrest_type.value))&\n",
    "                                    interim['Location Description'].isin(list(location_type.value))&\n",
    "                                    (interim['Date'].dt.hour >= int(list(hour.value)[0]))&\n",
    "                                    (interim['Date'].dt.hour <= int(list(hour.value)[1]))&\n",
    "                                    (interim['Date'].dt.month >= int(list(month.value)[0]))&\n",
    "                                    (interim['Date'].dt.month <= int(list(month.value)[1]))&\n",
    "                                    (interim['Date'].dt.year >= int(list(year.value)[0]))&\n",
    "                                    (interim['Date'].dt.year <= int(list(year.value)[1]))&\n",
    "                                    (interim['Date'].dt.day >= int(list(day_month.value)[0]))&\n",
    "                                    (interim['Date'].dt.day <= int(list(day_month.value)[1]))&\n",
    "                                    (interim['Date'].dt.dayofweek >= int(list(day_week.value)[0]))&\n",
    "                                    (interim['Date'].dt.dayofweek <= int(list(day_week.value)[1]))),\n",
    "                                    interim['Latitude'], interim['false_lat'])\n",
    "            i = i + 1\n",
    "\n",
    "def bad_callback(event):\n",
    "    dataframe_update()\n",
    "button.on_click(bad_callback)\n",
    "\n",
    "\n",
    "# button.on_click()"
   ]
  },
  {
   "cell_type": "code",
   "execution_count": null,
   "metadata": {
    "scrolled": false
   },
   "outputs": [
    {
     "data": {
      "text/plain": [
       "VBox(children=(Accordion(children=(VBox(children=(HBox(children=(SelectionRangeSlider(description='Hours', ind…"
      ]
     },
     "metadata": {},
     "output_type": "display_data"
    },
    {
     "name": "stderr",
     "output_type": "stream",
     "text": [
      "C:\\Users\\david\\PycharmProjects\\Videocolleges\\venv\\lib\\site-packages\\ipykernel_launcher.py:6: SettingWithCopyWarning:\n",
      "\n",
      "\n",
      "A value is trying to be set on a copy of a slice from a DataFrame.\n",
      "Try using .loc[row_indexer,col_indexer] = value instead\n",
      "\n",
      "See the caveats in the documentation: http://pandas.pydata.org/pandas-docs/stable/indexing.html#indexing-view-versus-copy\n",
      "\n",
      "C:\\Users\\david\\PycharmProjects\\Videocolleges\\venv\\lib\\site-packages\\ipykernel_launcher.py:7: SettingWithCopyWarning:\n",
      "\n",
      "\n",
      "A value is trying to be set on a copy of a slice from a DataFrame.\n",
      "Try using .loc[row_indexer,col_indexer] = value instead\n",
      "\n",
      "See the caveats in the documentation: http://pandas.pydata.org/pandas-docs/stable/indexing.html#indexing-view-versus-copy\n",
      "\n"
     ]
    },
    {
     "ename": "TypeError",
     "evalue": "'tuple' object does not support item assignment",
     "output_type": "error",
     "traceback": [
      "\u001b[0;31m---------------------------------------------------------------------------\u001b[0m",
      "\u001b[0;31mTypeError\u001b[0m                                 Traceback (most recent call last)",
      "\u001b[0;32m<ipython-input-105-7f7c87d5216f>\u001b[0m in \u001b[0;36mbad_callback\u001b[0;34m(event)\u001b[0m\n\u001b[1;32m     24\u001b[0m \u001b[0;34m\u001b[0m\u001b[0m\n\u001b[1;32m     25\u001b[0m \u001b[0;32mdef\u001b[0m \u001b[0mbad_callback\u001b[0m\u001b[0;34m(\u001b[0m\u001b[0mevent\u001b[0m\u001b[0;34m)\u001b[0m\u001b[0;34m:\u001b[0m\u001b[0;34m\u001b[0m\u001b[0m\n\u001b[0;32m---> 26\u001b[0;31m     \u001b[0mdataframe_update\u001b[0m\u001b[0;34m(\u001b[0m\u001b[0;34m)\u001b[0m\u001b[0;34m\u001b[0m\u001b[0m\n\u001b[0m\u001b[1;32m     27\u001b[0m \u001b[0mbutton\u001b[0m\u001b[0;34m.\u001b[0m\u001b[0mon_click\u001b[0m\u001b[0;34m(\u001b[0m\u001b[0mbad_callback\u001b[0m\u001b[0;34m)\u001b[0m\u001b[0;34m\u001b[0m\u001b[0m\n\u001b[1;32m     28\u001b[0m \u001b[0;34m\u001b[0m\u001b[0m\n",
      "\u001b[0;32m<ipython-input-125-e6a4a5347018>\u001b[0m in \u001b[0;36mdataframe_update\u001b[0;34m()\u001b[0m\n\u001b[1;32m     15\u001b[0m                         \u001b[0;34m'<br>Location: '\u001b[0m \u001b[0;34m+\u001b[0m \u001b[0minterim\u001b[0m\u001b[0;34m[\u001b[0m\u001b[0;34m'Location Description'\u001b[0m\u001b[0;34m]\u001b[0m\u001b[0;34m.\u001b[0m\u001b[0mastype\u001b[0m\u001b[0;34m(\u001b[0m\u001b[0mstr\u001b[0m\u001b[0;34m)\u001b[0m \u001b[0;34m+\u001b[0m\u001b[0;34m\u001b[0m\u001b[0m\n\u001b[1;32m     16\u001b[0m                         \u001b[0;34m'<br>Arrest: '\u001b[0m\u001b[0;34m+\u001b[0m \u001b[0minterim\u001b[0m\u001b[0;34m[\u001b[0m\u001b[0;34m'Arrest'\u001b[0m\u001b[0;34m]\u001b[0m\u001b[0;34m.\u001b[0m\u001b[0mastype\u001b[0m\u001b[0;34m(\u001b[0m\u001b[0mstr\u001b[0m\u001b[0;34m)\u001b[0m \u001b[0;34m+\u001b[0m\u001b[0;34m\u001b[0m\u001b[0m\n\u001b[0;32m---> 17\u001b[0;31m                         '<br>Domestic: ' + interim['Domestic'].astype(str))\n\u001b[0m\u001b[1;32m     18\u001b[0m                 )\n\u001b[1;32m     19\u001b[0m \u001b[0;31m#             g.data[i].lat = np.where((interim['Primary Type'].isin(list(crime_type.value))&\u001b[0m\u001b[0;34m\u001b[0m\u001b[0;34m\u001b[0m\u001b[0m\n",
      "\u001b[0;31mTypeError\u001b[0m: 'tuple' object does not support item assignment"
     ]
    },
    {
     "ename": "TypeError",
     "evalue": "'tuple' object does not support item assignment",
     "output_type": "error",
     "traceback": [
      "\u001b[0;31m---------------------------------------------------------------------------\u001b[0m",
      "\u001b[0;31mTypeError\u001b[0m                                 Traceback (most recent call last)",
      "\u001b[0;32m<ipython-input-110-7f7c87d5216f>\u001b[0m in \u001b[0;36mbad_callback\u001b[0;34m(event)\u001b[0m\n\u001b[1;32m     24\u001b[0m \u001b[0;34m\u001b[0m\u001b[0m\n\u001b[1;32m     25\u001b[0m \u001b[0;32mdef\u001b[0m \u001b[0mbad_callback\u001b[0m\u001b[0;34m(\u001b[0m\u001b[0mevent\u001b[0m\u001b[0;34m)\u001b[0m\u001b[0;34m:\u001b[0m\u001b[0;34m\u001b[0m\u001b[0m\n\u001b[0;32m---> 26\u001b[0;31m     \u001b[0mdataframe_update\u001b[0m\u001b[0;34m(\u001b[0m\u001b[0;34m)\u001b[0m\u001b[0;34m\u001b[0m\u001b[0m\n\u001b[0m\u001b[1;32m     27\u001b[0m \u001b[0mbutton\u001b[0m\u001b[0;34m.\u001b[0m\u001b[0mon_click\u001b[0m\u001b[0;34m(\u001b[0m\u001b[0mbad_callback\u001b[0m\u001b[0;34m)\u001b[0m\u001b[0;34m\u001b[0m\u001b[0m\n\u001b[1;32m     28\u001b[0m \u001b[0;34m\u001b[0m\u001b[0m\n",
      "\u001b[0;32m<ipython-input-125-e6a4a5347018>\u001b[0m in \u001b[0;36mdataframe_update\u001b[0;34m()\u001b[0m\n\u001b[1;32m     15\u001b[0m                         \u001b[0;34m'<br>Location: '\u001b[0m \u001b[0;34m+\u001b[0m \u001b[0minterim\u001b[0m\u001b[0;34m[\u001b[0m\u001b[0;34m'Location Description'\u001b[0m\u001b[0;34m]\u001b[0m\u001b[0;34m.\u001b[0m\u001b[0mastype\u001b[0m\u001b[0;34m(\u001b[0m\u001b[0mstr\u001b[0m\u001b[0;34m)\u001b[0m \u001b[0;34m+\u001b[0m\u001b[0;34m\u001b[0m\u001b[0m\n\u001b[1;32m     16\u001b[0m                         \u001b[0;34m'<br>Arrest: '\u001b[0m\u001b[0;34m+\u001b[0m \u001b[0minterim\u001b[0m\u001b[0;34m[\u001b[0m\u001b[0;34m'Arrest'\u001b[0m\u001b[0;34m]\u001b[0m\u001b[0;34m.\u001b[0m\u001b[0mastype\u001b[0m\u001b[0;34m(\u001b[0m\u001b[0mstr\u001b[0m\u001b[0;34m)\u001b[0m \u001b[0;34m+\u001b[0m\u001b[0;34m\u001b[0m\u001b[0m\n\u001b[0;32m---> 17\u001b[0;31m                         '<br>Domestic: ' + interim['Domestic'].astype(str))\n\u001b[0m\u001b[1;32m     18\u001b[0m                 )\n\u001b[1;32m     19\u001b[0m \u001b[0;31m#             g.data[i].lat = np.where((interim['Primary Type'].isin(list(crime_type.value))&\u001b[0m\u001b[0;34m\u001b[0m\u001b[0;34m\u001b[0m\u001b[0m\n",
      "\u001b[0;31mTypeError\u001b[0m: 'tuple' object does not support item assignment"
     ]
    },
    {
     "ename": "TypeError",
     "evalue": "'tuple' object does not support item assignment",
     "output_type": "error",
     "traceback": [
      "\u001b[0;31m---------------------------------------------------------------------------\u001b[0m",
      "\u001b[0;31mTypeError\u001b[0m                                 Traceback (most recent call last)",
      "\u001b[0;32m<ipython-input-115-7f7c87d5216f>\u001b[0m in \u001b[0;36mbad_callback\u001b[0;34m(event)\u001b[0m\n\u001b[1;32m     24\u001b[0m \u001b[0;34m\u001b[0m\u001b[0m\n\u001b[1;32m     25\u001b[0m \u001b[0;32mdef\u001b[0m \u001b[0mbad_callback\u001b[0m\u001b[0;34m(\u001b[0m\u001b[0mevent\u001b[0m\u001b[0;34m)\u001b[0m\u001b[0;34m:\u001b[0m\u001b[0;34m\u001b[0m\u001b[0m\n\u001b[0;32m---> 26\u001b[0;31m     \u001b[0mdataframe_update\u001b[0m\u001b[0;34m(\u001b[0m\u001b[0;34m)\u001b[0m\u001b[0;34m\u001b[0m\u001b[0m\n\u001b[0m\u001b[1;32m     27\u001b[0m \u001b[0mbutton\u001b[0m\u001b[0;34m.\u001b[0m\u001b[0mon_click\u001b[0m\u001b[0;34m(\u001b[0m\u001b[0mbad_callback\u001b[0m\u001b[0;34m)\u001b[0m\u001b[0;34m\u001b[0m\u001b[0m\n\u001b[1;32m     28\u001b[0m \u001b[0;34m\u001b[0m\u001b[0m\n",
      "\u001b[0;32m<ipython-input-125-e6a4a5347018>\u001b[0m in \u001b[0;36mdataframe_update\u001b[0;34m()\u001b[0m\n\u001b[1;32m     15\u001b[0m                         \u001b[0;34m'<br>Location: '\u001b[0m \u001b[0;34m+\u001b[0m \u001b[0minterim\u001b[0m\u001b[0;34m[\u001b[0m\u001b[0;34m'Location Description'\u001b[0m\u001b[0;34m]\u001b[0m\u001b[0;34m.\u001b[0m\u001b[0mastype\u001b[0m\u001b[0;34m(\u001b[0m\u001b[0mstr\u001b[0m\u001b[0;34m)\u001b[0m \u001b[0;34m+\u001b[0m\u001b[0;34m\u001b[0m\u001b[0m\n\u001b[1;32m     16\u001b[0m                         \u001b[0;34m'<br>Arrest: '\u001b[0m\u001b[0;34m+\u001b[0m \u001b[0minterim\u001b[0m\u001b[0;34m[\u001b[0m\u001b[0;34m'Arrest'\u001b[0m\u001b[0;34m]\u001b[0m\u001b[0;34m.\u001b[0m\u001b[0mastype\u001b[0m\u001b[0;34m(\u001b[0m\u001b[0mstr\u001b[0m\u001b[0;34m)\u001b[0m \u001b[0;34m+\u001b[0m\u001b[0;34m\u001b[0m\u001b[0m\n\u001b[0;32m---> 17\u001b[0;31m                         '<br>Domestic: ' + interim['Domestic'].astype(str))\n\u001b[0m\u001b[1;32m     18\u001b[0m                 )\n\u001b[1;32m     19\u001b[0m \u001b[0;31m#             g.data[i].lat = np.where((interim['Primary Type'].isin(list(crime_type.value))&\u001b[0m\u001b[0;34m\u001b[0m\u001b[0;34m\u001b[0m\u001b[0m\n",
      "\u001b[0;31mTypeError\u001b[0m: 'tuple' object does not support item assignment"
     ]
    },
    {
     "ename": "TypeError",
     "evalue": "'tuple' object does not support item assignment",
     "output_type": "error",
     "traceback": [
      "\u001b[0;31m---------------------------------------------------------------------------\u001b[0m",
      "\u001b[0;31mTypeError\u001b[0m                                 Traceback (most recent call last)",
      "\u001b[0;32m<ipython-input-117-e17338192946>\u001b[0m in \u001b[0;36mbad_callback\u001b[0;34m(event)\u001b[0m\n\u001b[1;32m     35\u001b[0m \u001b[0;34m\u001b[0m\u001b[0m\n\u001b[1;32m     36\u001b[0m \u001b[0;32mdef\u001b[0m \u001b[0mbad_callback\u001b[0m\u001b[0;34m(\u001b[0m\u001b[0mevent\u001b[0m\u001b[0;34m)\u001b[0m\u001b[0;34m:\u001b[0m\u001b[0;34m\u001b[0m\u001b[0m\n\u001b[0;32m---> 37\u001b[0;31m     \u001b[0mdataframe_update\u001b[0m\u001b[0;34m(\u001b[0m\u001b[0;34m)\u001b[0m\u001b[0;34m\u001b[0m\u001b[0m\n\u001b[0m\u001b[1;32m     38\u001b[0m \u001b[0mbutton\u001b[0m\u001b[0;34m.\u001b[0m\u001b[0mon_click\u001b[0m\u001b[0;34m(\u001b[0m\u001b[0mbad_callback\u001b[0m\u001b[0;34m)\u001b[0m\u001b[0;34m\u001b[0m\u001b[0m\n\u001b[1;32m     39\u001b[0m \u001b[0;34m\u001b[0m\u001b[0m\n",
      "\u001b[0;32m<ipython-input-125-e6a4a5347018>\u001b[0m in \u001b[0;36mdataframe_update\u001b[0;34m()\u001b[0m\n\u001b[1;32m     15\u001b[0m                         \u001b[0;34m'<br>Location: '\u001b[0m \u001b[0;34m+\u001b[0m \u001b[0minterim\u001b[0m\u001b[0;34m[\u001b[0m\u001b[0;34m'Location Description'\u001b[0m\u001b[0;34m]\u001b[0m\u001b[0;34m.\u001b[0m\u001b[0mastype\u001b[0m\u001b[0;34m(\u001b[0m\u001b[0mstr\u001b[0m\u001b[0;34m)\u001b[0m \u001b[0;34m+\u001b[0m\u001b[0;34m\u001b[0m\u001b[0m\n\u001b[1;32m     16\u001b[0m                         \u001b[0;34m'<br>Arrest: '\u001b[0m\u001b[0;34m+\u001b[0m \u001b[0minterim\u001b[0m\u001b[0;34m[\u001b[0m\u001b[0;34m'Arrest'\u001b[0m\u001b[0;34m]\u001b[0m\u001b[0;34m.\u001b[0m\u001b[0mastype\u001b[0m\u001b[0;34m(\u001b[0m\u001b[0mstr\u001b[0m\u001b[0;34m)\u001b[0m \u001b[0;34m+\u001b[0m\u001b[0;34m\u001b[0m\u001b[0m\n\u001b[0;32m---> 17\u001b[0;31m                         '<br>Domestic: ' + interim['Domestic'].astype(str))\n\u001b[0m\u001b[1;32m     18\u001b[0m                 )\n\u001b[1;32m     19\u001b[0m \u001b[0;31m#             g.data[i].lat = np.where((interim['Primary Type'].isin(list(crime_type.value))&\u001b[0m\u001b[0;34m\u001b[0m\u001b[0;34m\u001b[0m\u001b[0m\n",
      "\u001b[0;31mTypeError\u001b[0m: 'tuple' object does not support item assignment"
     ]
    },
    {
     "ename": "TypeError",
     "evalue": "'tuple' object does not support item assignment",
     "output_type": "error",
     "traceback": [
      "\u001b[0;31m---------------------------------------------------------------------------\u001b[0m",
      "\u001b[0;31mTypeError\u001b[0m                                 Traceback (most recent call last)",
      "\u001b[0;32m<ipython-input-119-0a0d77208730>\u001b[0m in \u001b[0;36mbad_callback\u001b[0;34m(event)\u001b[0m\n\u001b[1;32m     35\u001b[0m \u001b[0;34m\u001b[0m\u001b[0m\n\u001b[1;32m     36\u001b[0m \u001b[0;32mdef\u001b[0m \u001b[0mbad_callback\u001b[0m\u001b[0;34m(\u001b[0m\u001b[0mevent\u001b[0m\u001b[0;34m)\u001b[0m\u001b[0;34m:\u001b[0m\u001b[0;34m\u001b[0m\u001b[0m\n\u001b[0;32m---> 37\u001b[0;31m     \u001b[0mdataframe_update\u001b[0m\u001b[0;34m(\u001b[0m\u001b[0;34m)\u001b[0m\u001b[0;34m\u001b[0m\u001b[0m\n\u001b[0m\u001b[1;32m     38\u001b[0m \u001b[0mbutton\u001b[0m\u001b[0;34m.\u001b[0m\u001b[0mon_click\u001b[0m\u001b[0;34m(\u001b[0m\u001b[0mbad_callback\u001b[0m\u001b[0;34m)\u001b[0m\u001b[0;34m\u001b[0m\u001b[0m\n\u001b[1;32m     39\u001b[0m \u001b[0;34m\u001b[0m\u001b[0m\n",
      "\u001b[0;32m<ipython-input-125-e6a4a5347018>\u001b[0m in \u001b[0;36mdataframe_update\u001b[0;34m()\u001b[0m\n\u001b[1;32m     15\u001b[0m                         \u001b[0;34m'<br>Location: '\u001b[0m \u001b[0;34m+\u001b[0m \u001b[0minterim\u001b[0m\u001b[0;34m[\u001b[0m\u001b[0;34m'Location Description'\u001b[0m\u001b[0;34m]\u001b[0m\u001b[0;34m.\u001b[0m\u001b[0mastype\u001b[0m\u001b[0;34m(\u001b[0m\u001b[0mstr\u001b[0m\u001b[0;34m)\u001b[0m \u001b[0;34m+\u001b[0m\u001b[0;34m\u001b[0m\u001b[0m\n\u001b[1;32m     16\u001b[0m                         \u001b[0;34m'<br>Arrest: '\u001b[0m\u001b[0;34m+\u001b[0m \u001b[0minterim\u001b[0m\u001b[0;34m[\u001b[0m\u001b[0;34m'Arrest'\u001b[0m\u001b[0;34m]\u001b[0m\u001b[0;34m.\u001b[0m\u001b[0mastype\u001b[0m\u001b[0;34m(\u001b[0m\u001b[0mstr\u001b[0m\u001b[0;34m)\u001b[0m \u001b[0;34m+\u001b[0m\u001b[0;34m\u001b[0m\u001b[0m\n\u001b[0;32m---> 17\u001b[0;31m                         '<br>Domestic: ' + interim['Domestic'].astype(str))\n\u001b[0m\u001b[1;32m     18\u001b[0m                 )\n\u001b[1;32m     19\u001b[0m \u001b[0;31m#             g.data[i].lat = np.where((interim['Primary Type'].isin(list(crime_type.value))&\u001b[0m\u001b[0;34m\u001b[0m\u001b[0;34m\u001b[0m\u001b[0m\n",
      "\u001b[0;31mTypeError\u001b[0m: 'tuple' object does not support item assignment"
     ]
    },
    {
     "ename": "TypeError",
     "evalue": "'tuple' object does not support item assignment",
     "output_type": "error",
     "traceback": [
      "\u001b[0;31m---------------------------------------------------------------------------\u001b[0m",
      "\u001b[0;31mTypeError\u001b[0m                                 Traceback (most recent call last)",
      "\u001b[0;32m<ipython-input-121-1494c9de0070>\u001b[0m in \u001b[0;36mbad_callback\u001b[0;34m(event)\u001b[0m\n\u001b[1;32m     35\u001b[0m \u001b[0;34m\u001b[0m\u001b[0m\n\u001b[1;32m     36\u001b[0m \u001b[0;32mdef\u001b[0m \u001b[0mbad_callback\u001b[0m\u001b[0;34m(\u001b[0m\u001b[0mevent\u001b[0m\u001b[0;34m)\u001b[0m\u001b[0;34m:\u001b[0m\u001b[0;34m\u001b[0m\u001b[0m\n\u001b[0;32m---> 37\u001b[0;31m     \u001b[0mdataframe_update\u001b[0m\u001b[0;34m(\u001b[0m\u001b[0;34m)\u001b[0m\u001b[0;34m\u001b[0m\u001b[0m\n\u001b[0m\u001b[1;32m     38\u001b[0m \u001b[0mbutton\u001b[0m\u001b[0;34m.\u001b[0m\u001b[0mon_click\u001b[0m\u001b[0;34m(\u001b[0m\u001b[0mbad_callback\u001b[0m\u001b[0;34m)\u001b[0m\u001b[0;34m\u001b[0m\u001b[0m\n\u001b[1;32m     39\u001b[0m \u001b[0;34m\u001b[0m\u001b[0m\n",
      "\u001b[0;32m<ipython-input-125-e6a4a5347018>\u001b[0m in \u001b[0;36mdataframe_update\u001b[0;34m()\u001b[0m\n\u001b[1;32m     15\u001b[0m                         \u001b[0;34m'<br>Location: '\u001b[0m \u001b[0;34m+\u001b[0m \u001b[0minterim\u001b[0m\u001b[0;34m[\u001b[0m\u001b[0;34m'Location Description'\u001b[0m\u001b[0;34m]\u001b[0m\u001b[0;34m.\u001b[0m\u001b[0mastype\u001b[0m\u001b[0;34m(\u001b[0m\u001b[0mstr\u001b[0m\u001b[0;34m)\u001b[0m \u001b[0;34m+\u001b[0m\u001b[0;34m\u001b[0m\u001b[0m\n\u001b[1;32m     16\u001b[0m                         \u001b[0;34m'<br>Arrest: '\u001b[0m\u001b[0;34m+\u001b[0m \u001b[0minterim\u001b[0m\u001b[0;34m[\u001b[0m\u001b[0;34m'Arrest'\u001b[0m\u001b[0;34m]\u001b[0m\u001b[0;34m.\u001b[0m\u001b[0mastype\u001b[0m\u001b[0;34m(\u001b[0m\u001b[0mstr\u001b[0m\u001b[0;34m)\u001b[0m \u001b[0;34m+\u001b[0m\u001b[0;34m\u001b[0m\u001b[0m\n\u001b[0;32m---> 17\u001b[0;31m                         '<br>Domestic: ' + interim['Domestic'].astype(str))\n\u001b[0m\u001b[1;32m     18\u001b[0m                 )\n\u001b[1;32m     19\u001b[0m \u001b[0;31m#             g.data[i].lat = np.where((interim['Primary Type'].isin(list(crime_type.value))&\u001b[0m\u001b[0;34m\u001b[0m\u001b[0;34m\u001b[0m\u001b[0m\n",
      "\u001b[0;31mTypeError\u001b[0m: 'tuple' object does not support item assignment"
     ]
    },
    {
     "ename": "TypeError",
     "evalue": "'tuple' object does not support item assignment",
     "output_type": "error",
     "traceback": [
      "\u001b[0;31m---------------------------------------------------------------------------\u001b[0m",
      "\u001b[0;31mTypeError\u001b[0m                                 Traceback (most recent call last)",
      "\u001b[0;32m<ipython-input-123-3656da2aa77c>\u001b[0m in \u001b[0;36mbad_callback\u001b[0;34m(event)\u001b[0m\n\u001b[1;32m     35\u001b[0m \u001b[0;34m\u001b[0m\u001b[0m\n\u001b[1;32m     36\u001b[0m \u001b[0;32mdef\u001b[0m \u001b[0mbad_callback\u001b[0m\u001b[0;34m(\u001b[0m\u001b[0mevent\u001b[0m\u001b[0;34m)\u001b[0m\u001b[0;34m:\u001b[0m\u001b[0;34m\u001b[0m\u001b[0m\n\u001b[0;32m---> 37\u001b[0;31m     \u001b[0mdataframe_update\u001b[0m\u001b[0;34m(\u001b[0m\u001b[0;34m)\u001b[0m\u001b[0;34m\u001b[0m\u001b[0m\n\u001b[0m\u001b[1;32m     38\u001b[0m \u001b[0mbutton\u001b[0m\u001b[0;34m.\u001b[0m\u001b[0mon_click\u001b[0m\u001b[0;34m(\u001b[0m\u001b[0mbad_callback\u001b[0m\u001b[0;34m)\u001b[0m\u001b[0;34m\u001b[0m\u001b[0m\n\u001b[1;32m     39\u001b[0m \u001b[0;34m\u001b[0m\u001b[0m\n",
      "\u001b[0;32m<ipython-input-125-e6a4a5347018>\u001b[0m in \u001b[0;36mdataframe_update\u001b[0;34m()\u001b[0m\n\u001b[1;32m     15\u001b[0m                         \u001b[0;34m'<br>Location: '\u001b[0m \u001b[0;34m+\u001b[0m \u001b[0minterim\u001b[0m\u001b[0;34m[\u001b[0m\u001b[0;34m'Location Description'\u001b[0m\u001b[0;34m]\u001b[0m\u001b[0;34m.\u001b[0m\u001b[0mastype\u001b[0m\u001b[0;34m(\u001b[0m\u001b[0mstr\u001b[0m\u001b[0;34m)\u001b[0m \u001b[0;34m+\u001b[0m\u001b[0;34m\u001b[0m\u001b[0m\n\u001b[1;32m     16\u001b[0m                         \u001b[0;34m'<br>Arrest: '\u001b[0m\u001b[0;34m+\u001b[0m \u001b[0minterim\u001b[0m\u001b[0;34m[\u001b[0m\u001b[0;34m'Arrest'\u001b[0m\u001b[0;34m]\u001b[0m\u001b[0;34m.\u001b[0m\u001b[0mastype\u001b[0m\u001b[0;34m(\u001b[0m\u001b[0mstr\u001b[0m\u001b[0;34m)\u001b[0m \u001b[0;34m+\u001b[0m\u001b[0;34m\u001b[0m\u001b[0m\n\u001b[0;32m---> 17\u001b[0;31m                         '<br>Domestic: ' + interim['Domestic'].astype(str))\n\u001b[0m\u001b[1;32m     18\u001b[0m                 )\n\u001b[1;32m     19\u001b[0m \u001b[0;31m#             g.data[i].lat = np.where((interim['Primary Type'].isin(list(crime_type.value))&\u001b[0m\u001b[0;34m\u001b[0m\u001b[0;34m\u001b[0m\u001b[0m\n",
      "\u001b[0;31mTypeError\u001b[0m: 'tuple' object does not support item assignment"
     ]
    },
    {
     "ename": "TypeError",
     "evalue": "'tuple' object does not support item assignment",
     "output_type": "error",
     "traceback": [
      "\u001b[0;31m---------------------------------------------------------------------------\u001b[0m",
      "\u001b[0;31mTypeError\u001b[0m                                 Traceback (most recent call last)",
      "\u001b[0;32m<ipython-input-125-e6a4a5347018>\u001b[0m in \u001b[0;36mbad_callback\u001b[0;34m(event)\u001b[0m\n\u001b[1;32m     35\u001b[0m \u001b[0;34m\u001b[0m\u001b[0m\n\u001b[1;32m     36\u001b[0m \u001b[0;32mdef\u001b[0m \u001b[0mbad_callback\u001b[0m\u001b[0;34m(\u001b[0m\u001b[0mevent\u001b[0m\u001b[0;34m)\u001b[0m\u001b[0;34m:\u001b[0m\u001b[0;34m\u001b[0m\u001b[0m\n\u001b[0;32m---> 37\u001b[0;31m     \u001b[0mdataframe_update\u001b[0m\u001b[0;34m(\u001b[0m\u001b[0;34m)\u001b[0m\u001b[0;34m\u001b[0m\u001b[0m\n\u001b[0m\u001b[1;32m     38\u001b[0m \u001b[0mbutton\u001b[0m\u001b[0;34m.\u001b[0m\u001b[0mon_click\u001b[0m\u001b[0;34m(\u001b[0m\u001b[0mbad_callback\u001b[0m\u001b[0;34m)\u001b[0m\u001b[0;34m\u001b[0m\u001b[0m\n\u001b[1;32m     39\u001b[0m \u001b[0;34m\u001b[0m\u001b[0m\n",
      "\u001b[0;32m<ipython-input-125-e6a4a5347018>\u001b[0m in \u001b[0;36mdataframe_update\u001b[0;34m()\u001b[0m\n\u001b[1;32m     15\u001b[0m                         \u001b[0;34m'<br>Location: '\u001b[0m \u001b[0;34m+\u001b[0m \u001b[0minterim\u001b[0m\u001b[0;34m[\u001b[0m\u001b[0;34m'Location Description'\u001b[0m\u001b[0;34m]\u001b[0m\u001b[0;34m.\u001b[0m\u001b[0mastype\u001b[0m\u001b[0;34m(\u001b[0m\u001b[0mstr\u001b[0m\u001b[0;34m)\u001b[0m \u001b[0;34m+\u001b[0m\u001b[0;34m\u001b[0m\u001b[0m\n\u001b[1;32m     16\u001b[0m                         \u001b[0;34m'<br>Arrest: '\u001b[0m\u001b[0;34m+\u001b[0m \u001b[0minterim\u001b[0m\u001b[0;34m[\u001b[0m\u001b[0;34m'Arrest'\u001b[0m\u001b[0;34m]\u001b[0m\u001b[0;34m.\u001b[0m\u001b[0mastype\u001b[0m\u001b[0;34m(\u001b[0m\u001b[0mstr\u001b[0m\u001b[0;34m)\u001b[0m \u001b[0;34m+\u001b[0m\u001b[0;34m\u001b[0m\u001b[0m\n\u001b[0;32m---> 17\u001b[0;31m                         '<br>Domestic: ' + interim['Domestic'].astype(str))\n\u001b[0m\u001b[1;32m     18\u001b[0m                 )\n\u001b[1;32m     19\u001b[0m \u001b[0;31m#             g.data[i].lat = np.where((interim['Primary Type'].isin(list(crime_type.value))&\u001b[0m\u001b[0;34m\u001b[0m\u001b[0;34m\u001b[0m\u001b[0m\n",
      "\u001b[0;31mTypeError\u001b[0m: 'tuple' object does not support item assignment"
     ]
    }
   ],
   "source": [
    "widgets.VBox([accordion,\n",
    "              container_update,\n",
    "              g])"
   ]
  },
  {
   "cell_type": "code",
   "execution_count": null,
   "metadata": {},
   "outputs": [],
   "source": [
    "%%html\n",
    "<img src = 'https://cloud.githubusercontent.com/assets/12302455/16637308/4e476280-43ac-11e6-9fd3-ada2c9506ee1.gif' >"
   ]
  }
 ],
 "metadata": {
  "kernelspec": {
   "display_name": "Python 3",
   "language": "python",
   "name": "python3"
  },
  "language_info": {
   "codemirror_mode": {
    "name": "ipython",
    "version": 3
   },
   "file_extension": ".py",
   "mimetype": "text/x-python",
   "name": "python",
   "nbconvert_exporter": "python",
   "pygments_lexer": "ipython3",
   "version": "3.7.0"
  }
 },
 "nbformat": 4,
 "nbformat_minor": 2
}
